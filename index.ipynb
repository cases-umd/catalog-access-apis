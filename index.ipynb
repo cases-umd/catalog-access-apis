{
 "cells": [
  {
   "cell_type": "markdown",
   "metadata": {},
   "source": [
    "#  Catalog APIs - JSON - Python\n",
    "### Automating Access to FDR Morgenthau Diaries & WWII Japanese American Camp Records\n",
    " "
   ]
  },
  {
   "cell_type": "markdown",
   "metadata": {},
   "source": [
    "# Notebooks \n",
    "\n",
    "- APIs and Description:\n",
    "    - [Archival Descriptive Metadata & JSON](JSON-NARA-Catalog.ipynb)\n",
    "\n",
    "    - FDR Morgenthau Diaries: Using NARA's Catalog API to Access Catalog Metadata\n",
    "   \n",
    "        - [FDR Morgenthau Diaries - Querying the Diary Collection](JSON-NARA-Catalog_FDR-SE.ipynb)\n",
    "        - [FDR Morgenthau Diaries - Querying a Diary Volume](JSON-NARA-Catalog_FDR-FU.ipynb)\n",
    "        - [FDR Morgenthau Diaries - Querying all Diary Volumes](JSON-NARA-Catalog_FDR-FUs.ipynb)\n",
    "\n",
    "\n",
    "- Computational Treatments:\n",
    "    - FDR Machine Learning and JSON Databases\n",
    "        - [FDR Morgenthau Diaries: Applying ML to create a JSON Database](JSON-ML-FDR.ipynb)\n",
    "        - [Querying using a Python Library](JSON-DB-Python_FDR.ipynb)\n",
    "        - [Querying the Core JSON Database](JSON-DB-Core_FDR.ipynb)\n",
    "        \n",
    "\n",
    "\n",
    "- WWII Japanese American Camps:\n",
    "    - [WRA - Querying WWII Japanese American Holdings](JSON-NARA-Catalog_WRA-SEs.ipynb)\n",
    "\n",
    "P.S.: Tutorial on Markdown Language: <https://www.markdownguide.org/basic-syntax/>"
   ]
  },
  {
   "cell_type": "markdown",
   "metadata": {},
   "source": []
  },
  {
   "cell_type": "code",
   "execution_count": null,
   "metadata": {},
   "outputs": [],
   "source": []
  }
 ],
 "metadata": {
  "kernelspec": {
   "display_name": "Python 3 (ipykernel)",
   "language": "python",
   "name": "python3"
  },
  "language_info": {
   "codemirror_mode": {
    "name": "ipython",
    "version": 3
   },
   "file_extension": ".py",
   "mimetype": "text/x-python",
   "name": "python",
   "nbconvert_exporter": "python",
   "pygments_lexer": "ipython3",
   "version": "3.11.5"
  }
 },
 "nbformat": 4,
 "nbformat_minor": 4
}
