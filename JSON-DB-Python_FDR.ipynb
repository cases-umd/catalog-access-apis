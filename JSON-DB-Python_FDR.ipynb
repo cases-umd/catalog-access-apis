{
 "cells": [
  {
   "cell_type": "markdown",
   "id": "loving-given",
   "metadata": {},
   "source": [
    "# hmjr is a package of tools to help researchers as well as users with simpler needs directly interact with the HMJr diary collection.\n",
    "\n",
    "- <https://github.com/TeddyRandby/hmjrPyTools/blob/main/README.md>\n"
   ]
  },
  {
   "cell_type": "markdown",
   "id": "korean-intensity",
   "metadata": {},
   "source": [
    "<img src=\"Images/header_count.png\"/> \n",
    "<img src=\"Images/volume_count.png\"/> \n",
    "<img src=\"Images/word_count.png\"/>"
   ]
  },
  {
   "cell_type": "markdown",
   "id": "wanted-charles",
   "metadata": {},
   "source": [
    "# Getting started"
   ]
  },
  {
   "cell_type": "markdown",
   "id": "engaging-locking",
   "metadata": {},
   "source": [
    "To install our package and import what you need, run the following two lines."
   ]
  },
  {
   "cell_type": "code",
   "execution_count": null,
   "id": "spanish-experience",
   "metadata": {},
   "outputs": [],
   "source": [
    "# Install the package that let's us analyze the JSON DB\n",
    "!pip install hmjr===0.1.0\n"
   ]
  },
  {
   "cell_type": "markdown",
   "id": "adapted-frontier",
   "metadata": {},
   "source": [
    "Query here is the first point of contact for interacting with the HMJR Diary database. In order to use it, we need to initialize the object. Don't worry about what that means behind the scenes, just make sure to follow Query up with a () whenver we use it, like this: Query().\n",
    "\n",
    "At this point, you may be seeing some suggestions popping up, especially if you're using a Notebook. The best starting point here is just run(), which just grabs entries in the simplest way possible, just the order they happen to be stored in the database.\n",
    "\n",
    "So for now, we'll go with that."
   ]
  },
  {
   "cell_type": "code",
   "execution_count": null,
   "id": "lonely-gospel",
   "metadata": {},
   "outputs": [],
   "source": [
    "from hmjr import Query\n",
    "import matplotlib.pylab as plt\n",
    "import numpy as np\n",
    "import datetime\n",
    "\n",
    "Query().run(max=5).entries"
   ]
  },
  {
   "cell_type": "markdown",
   "id": "official-specialist",
   "metadata": {},
   "source": [
    ".entries selects the data the query gave us out of the Queries object. And after running that, you should see the data output!\n",
    "\n",
    "Before we get to some new queries, lets go over some of the ways we can influence the queries we make. One way is with the default argument max. It refers to the maximum number of entries the query should ask for. This can be changed like this:"
   ]
  },
  {
   "cell_type": "code",
   "execution_count": null,
   "id": "korean-corporation",
   "metadata": {},
   "outputs": [],
   "source": [
    "Query().run(max=5).entries"
   ]
  },
  {
   "cell_type": "markdown",
   "id": "recreational-boston",
   "metadata": {},
   "source": [
    "This time we should see a lot fewer entries when we run the query.\n",
    "\n",
    "Speaking of volumes - lets move on to a more complex query."
   ]
  },
  {
   "cell_type": "code",
   "execution_count": null,
   "id": "greek-drink",
   "metadata": {},
   "outputs": [],
   "source": [
    "Query().withBookBetween(1,5).run().entries"
   ]
  },
  {
   "cell_type": "markdown",
   "id": "complete-walter",
   "metadata": {},
   "source": [
    "This query should be self explanatory, but it does have a quirk in that the book range includes the lower bound, and excludes the upper bound. So this query will return entries with books 1, 2, 3, 4.\n",
    "\n",
    "Under the hood, withBookBetween(start,stop) uses a different function to query the database, and that function is simply withBook(). It works like this:"
   ]
  },
  {
   "cell_type": "code",
   "execution_count": null,
   "id": "knowing-needle",
   "metadata": {},
   "outputs": [],
   "source": [
    "Query().withBook([1,2,3,4]).run().entries"
   ]
  },
  {
   "cell_type": "markdown",
   "id": "elegant-computer",
   "metadata": {},
   "source": [
    "This is the query our previous withBookBetween(1,5) generated for us. The brackets hold a list of book numbers, and they don't have to be in any order. [1,2,3,4] is the same as [2,4,1,3], and it could even be something like [708,1,66].\n",
    "\n",
    "By the way, all these queries share that default argument max. Its used the same way that we saw earlier.\n",
    "\n",
    "Heres our next query:"
   ]
  },
  {
   "cell_type": "code",
   "execution_count": null,
   "id": "compatible-arbitration",
   "metadata": {},
   "outputs": [],
   "source": [
    "Query().withKeywords([\"Refugee\", \"refugee\"]).run().entries"
   ]
  },
  {
   "cell_type": "markdown",
   "id": "systematic-ceremony",
   "metadata": {},
   "source": [
    "We see another list, which works the same way as our previous list. This time we have quotes around words to differentiate them from code - don't forget the quotes. If you get a syntax error, that might be why.\n",
    "\n",
    "Heres the last kind of query we can do:"
   ]
  },
  {
   "cell_type": "code",
   "execution_count": null,
   "id": "everyday-recorder",
   "metadata": {},
   "outputs": [],
   "source": [
    "Query().withDates({\"day\": 1, \"month\": 1, \"year\":44}).run().entries\n"
   ]
  },
  {
   "cell_type": "markdown",
   "id": "educational-recipe",
   "metadata": {},
   "source": [
    "Earlier we saw a python list with the square brackets, this notation is called a dictionary, and it holds any number of key:value pairs. Here, our query expects a dictionary with day, month and year keys.\n",
    "\n",
    "Now that we've got all the queries working individually, we can combine them before we use run().\n",
    "\n",
    "Try something like:"
   ]
  },
  {
   "cell_type": "code",
   "execution_count": null,
   "id": "dimensional-contribution",
   "metadata": {},
   "outputs": [],
   "source": [
    "Query().withKeywords([\"Camp\", \"camp\"]).withBookBetween(738, 349).run().entries\n"
   ]
  },
  {
   "cell_type": "markdown",
   "id": "vertical-struggle",
   "metadata": {},
   "source": [
    "We've dropped the .entries off the end of our query, and are storing the result of run() in the variable entries. This result has more to it than just a list of entries. We can call a couple methods on this object. Heres what it looks like:\n"
   ]
  },
  {
   "cell_type": "code",
   "execution_count": null,
   "id": "flush-archives",
   "metadata": {},
   "outputs": [],
   "source": [
    "entries.associate([\"HMJr\"])"
   ]
  },
  {
   "cell_type": "markdown",
   "id": "horizontal-address",
   "metadata": {},
   "source": [
    "What the associate() method does is take a list of words, and rank the appearences of every other word in proximity to this word. \"Proximity\" is defined as appearing with at least one of the given words in the content of an Index.\n",
    "\n",
    "There are two more methods for analyzing the data: the deltaTime() method and the deltaBooks() method.\n",
    "\n",
    "They work just like the associate() method, taking a list of words. They both return a dictionary which counts the appearences of the words over the books or over the dates in the entries.\n",
    "\n",
    "There are some additional helper methods, such as:\n",
    "\n",
    "- headerCounts() counts the occurences of each unique header in the entries\n",
    "- headerWords() returns a dictionary counting the unique words in the headers\n",
    "- contentWords() returns a dictionary counting the unique words in the content\n",
    "- words returns the combination of headerWords() and contentWords()\n",
    "- headers() returns an array of the header strings in the entries, not sorted\n",
    "- content() returns an array of the content strings in the entries, not sorted\n",
    "- dates() returns an array of the date dictionaries in the entries, not sorted\n",
    "- indexes() returns an array of the index dictionaries in the entries, not sorted\n",
    "- dateRange() returns the tuple (minimumDate, maximumDate) mentioned in the entries\n",
    "- bookRange() returns the tuple (minimumBook, maximumBook) mentioned in the entries"
   ]
  },
  {
   "cell_type": "code",
   "execution_count": null,
   "id": "ruled-amber",
   "metadata": {},
   "outputs": [],
   "source": [
    "# Get the entries with a maximum of 2K entries, and save them in the entries variable.\n",
    "#entries = Query().withBookBetween(696,697).run(max=2000)\n",
    "entries = Query().withBook([696]).run()\n",
    "numEntries = len(entries.content())\n",
    "print(\"Number of entries: \" + str(numEntries))\n",
    "print(\"Avg entries per volume: \" + str(numEntries / 1))"
   ]
  },
  {
   "cell_type": "code",
   "execution_count": null,
   "id": "initial-adrian",
   "metadata": {},
   "outputs": [],
   "source": [
    "entries.headers()[27]"
   ]
  },
  {
   "cell_type": "markdown",
   "id": "higher-tumor",
   "metadata": {},
   "source": [
    "Your results should have entries with \"Camp\" or \"camp\" in their text, in a volume between 738 and 749.\n",
    "\n",
    "Now we can make complex queries on the data, lets look at how we can analyze it.\n",
    "\n",
    "After we use the run() method, we get a different object back."
   ]
  },
  {
   "cell_type": "code",
   "execution_count": null,
   "id": "treated-socket",
   "metadata": {},
   "outputs": [],
   "source": [
    "from hmjr import Query\n",
    "import matplotlib.pylab as plt\n",
    "import numpy as np\n",
    "import datetime\n",
    "#import stanza\n",
    "#stanza.download('en')\n",
    "#nlp = stanza.Pipeline(\"en\", processors='tokenize,ner', ner_model_path='en_hmjr_nertagger.pt')\n",
    "import json\n",
    "# Import the Query, and some other tools to help analysis"
   ]
  },
  {
   "cell_type": "code",
   "execution_count": null,
   "id": "incomplete-compression",
   "metadata": {},
   "outputs": [],
   "source": [
    "# Make a query for entries with book between 689 and 749 (excluding 749)\n",
    "# Take a maximum of 20K entries\n",
    "# Count the occurrences of unique headers amoung these headers\n",
    "data = Query().withBookBetween(688,699).run(max=20000)\n",
    "#for entry in data.entries:\n",
    "#  content = entry[\"header\"] + \" \" + entry[\"content\"]\n",
    "#  content = content.replace('\\n', '.')\n",
    "#  doc = nlp(content)\n",
    "#  for sent in doc.sentences:\n",
    "#    for ent in sent.ents:\n",
    "#      print(ent)"
   ]
  },
  {
   "cell_type": "code",
   "execution_count": null,
   "id": "hungry-recall",
   "metadata": {},
   "outputs": [],
   "source": [
    "# Get the same entries, but there is no max given. This uses the default, which is 50.\n",
    "\n",
    "#query = \"\"\"\n",
    "#    query ($max: Float!, $keywords: [String!]!, $dates: [DateInput!]!, $books: [String!]!) {\n",
    "#        entries(max: $max, keywords: $keywords, dates: $dates, books:$books) {\n",
    "#            _id\n",
    "#            header\n",
    "#            content\n",
    "#            people\n",
    "#            locations\n",
    "#            organizations\n",
    "#            book\n",
    "#        }\n",
    "#    }\n",
    "#\"\"\"\n",
    "#mutation = \"\"\"\n",
    "#mutation ($id: String!, $entry: EntryInput!) {\n",
    "#                updateEntry(id: $id, entry: $entry) {\n",
    "#                    book\n",
    "#                }\n",
    "#            }\n",
    "#\"\"\"\n",
    "\n",
    "#entries = Query().query(query, {\"max\": 30000, \"keywords\": [], \"dates\": [], \"books\": [\"689\"]})\n",
    "#for entry in entries.entries:\n",
    "#  content = entry[\"header\"] + \" \" + entry[\"content\"]\n",
    "#  content = content.replace('\\n', '.')\n",
    "#  doc = nlp(content)\n",
    "#  people = [ent.text for sent in doc.sentences for ent in sent.ents if ent.type == \"PERSON\"]\n",
    "#  locations = [ent.text for sent in doc.sentences for ent in sent.ents if ent.type == \"LOC\" or ent.type == \"GPE\"]\n",
    "#  organizations = [ent.text for sent in doc.sentences for ent in sent.ents if ent.type == \"ORG\"]\n",
    "#  vars = { \"id\": entry[\"_id\"], \"entry\":{ \"people\": people, \"locations\": locations, \"organizations\": organizations }}\n",
    "#  Query().query(mutation, vars, \"updateEntry\")\n"
   ]
  },
  {
   "cell_type": "code",
   "execution_count": null,
   "id": "timely-history",
   "metadata": {},
   "outputs": [],
   "source": [
    "Query().withDates({\"day\": 26, \"month\": 1, \"year\":44}).run().entries"
   ]
  },
  {
   "cell_type": "code",
   "execution_count": 4,
   "id": "guilty-pickup",
   "metadata": {},
   "outputs": [
    {
     "name": "stdout",
     "output_type": "stream",
     "text": [
      "Number of entries: 1925\n",
      "Avg entries per volume: 32.083333333333336\n"
     ]
    }
   ],
   "source": [
    "# Get the entries with a maximum of 2K entries, and save them in the entries variable.\n",
    "entries = Query().withBookBetween(689,749).run(max=2000)\n",
    "numEntries = len(entries.content())\n",
    "print(\"Number of entries: \" + str(numEntries))\n",
    "print(\"Avg entries per volume: \" + str(numEntries / 60))"
   ]
  },
  {
   "cell_type": "code",
   "execution_count": null,
   "id": "applicable-choir",
   "metadata": {},
   "outputs": [],
   "source": [
    "entries = Query().withKeywords([\"Camp\", \"camp\"]).withBookBetween(738, 749).run()\n",
    "entries.associate([\"HMJr\"])"
   ]
  },
  {
   "cell_type": "code",
   "execution_count": null,
   "id": "lucky-lightning",
   "metadata": {},
   "outputs": [],
   "source": [
    "entries.headers()"
   ]
  },
  {
   "cell_type": "code",
   "execution_count": null,
   "id": "foreign-reserve",
   "metadata": {},
   "outputs": [],
   "source": [
    "entries.content()"
   ]
  },
  {
   "cell_type": "code",
   "execution_count": null,
   "id": "significant-entity",
   "metadata": {},
   "outputs": [],
   "source": [
    "entries.headerCounts()"
   ]
  },
  {
   "cell_type": "code",
   "execution_count": null,
   "id": "upset-rolling",
   "metadata": {},
   "outputs": [],
   "source": [
    "entries.dates()"
   ]
  },
  {
   "cell_type": "code",
   "execution_count": null,
   "id": "retired-native",
   "metadata": {},
   "outputs": [],
   "source": [
    "entries.indexes()"
   ]
  },
  {
   "cell_type": "code",
   "execution_count": 5,
   "id": "legendary-humor",
   "metadata": {},
   "outputs": [
    {
     "name": "stderr",
     "output_type": "stream",
     "text": [
      "No handles with labels found to put in legend.\n"
     ]
    },
    {
     "data": {
      "image/png": "[encoded data removed]",
      "text/plain": [
       "<Figure size 432x288 with 1 Axes>"
      ]
     },
     "metadata": {
      "needs_background": "light"
     },
     "output_type": "display_data"
    }
   ],
   "source": [
    "# Get the count of unique headers\n",
    "data = entries.headerCounts()\n",
    "# Sort the headers by their occurrence\n",
    "lists = sorted(data.items(), key=lambda x: x[1], reverse=True)[:20]\n",
    "# Transform the sorted headers into two lists, X and Y values\n",
    "X, Y = map(list, zip(*lists))\n",
    "# Plot them!\n",
    "plt.bar(X, Y)\n",
    "plt.xticks(rotation='vertical')\n",
    "plt.legend()\n",
    "plt.ylabel(\"Occurrences\")\n",
    "plt.title(\"Most popular entries\")\n",
    "plt.show()\n"
   ]
  },
  {
   "cell_type": "code",
   "execution_count": null,
   "id": "constitutional-techno",
   "metadata": {},
   "outputs": [],
   "source": []
  },
  {
   "cell_type": "code",
   "execution_count": 6,
   "id": "whole-korea",
   "metadata": {},
   "outputs": [
    {
     "data": {
      "image/png": "[encoded data removed]",
      "text/plain": [
       "<Figure size 432x288 with 1 Axes>"
      ]
     },
     "metadata": {
      "needs_background": "light"
     },
     "output_type": "display_data"
    }
   ],
   "source": [
    "data = entries.dates()\n",
    "invalid = [[d for d in data if d[\"month\"] < 1 or d[\"month\"] > 12]]\n",
    "# Clean the data to only take dates with valid months\n",
    "data = [d for d in data if d[\"month\"] > 0 and d[\"month\"] < 13]\n",
    "# Transform the dates from the query into datetime objects\n",
    "dates = [datetime.date(int(\"19\" + str(d[\"year\"])), d[\"month\"], d[\"day\"]) for d in data]\n",
    "\n",
    "#Plot the occurrences of each individual date\n",
    "fig, ax = plt.subplots()\n",
    "plt.xlim(datetime.date(1944,1,1),datetime.date(1944,6,30))\n",
    "unique, counts = np.unique(dates, return_counts=True)\n",
    "\n",
    "plt.plot(unique,counts)\n",
    "plt.title(\"Amount of entries\")\n",
    "plt.ylabel(\"Entries\")\n",
    "plt.xlabel(\"Date\")\n",
    "# rotate and align the tick labels so they look better\n",
    "fig.autofmt_xdate()"
   ]
  },
  {
   "cell_type": "code",
   "execution_count": 7,
   "id": "varied-daughter",
   "metadata": {},
   "outputs": [
    {
     "name": "stdout",
     "output_type": "stream",
     "text": [
      "No results found. Try running a query first.\n"
     ]
    },
    {
     "ename": "AttributeError",
     "evalue": "'NoneType' object has no attribute 'any'",
     "output_type": "error",
     "traceback": [
      "\u001b[0;31m---------------------------------------------------------------------------\u001b[0m",
      "\u001b[0;31mAttributeError\u001b[0m                            Traceback (most recent call last)",
      "\u001b[0;32m<ipython-input-7-e0764c888d85>\u001b[0m in \u001b[0;36m<module>\u001b[0;34m\u001b[0m\n\u001b[1;32m      2\u001b[0m \u001b[0mstopWords\u001b[0m  \u001b[0;34m=\u001b[0m \u001b[0;34m\"of and to for Book Page page in by on from with See a) 1) b) also - be, New York York: as at Oswego Oswego,\"\u001b[0m\u001b[0;34m\u001b[0m\u001b[0;34m\u001b[0m\u001b[0m\n\u001b[1;32m      3\u001b[0m \u001b[0mkeyword\u001b[0m \u001b[0;34m=\u001b[0m \u001b[0;34m\"Oswego\"\u001b[0m\u001b[0;34m\u001b[0m\u001b[0;34m\u001b[0m\u001b[0m\n\u001b[0;32m----> 4\u001b[0;31m \u001b[0mdata\u001b[0m \u001b[0;34m=\u001b[0m \u001b[0mentries\u001b[0m\u001b[0;34m.\u001b[0m\u001b[0massociate\u001b[0m\u001b[0;34m(\u001b[0m\u001b[0;34m[\u001b[0m\u001b[0mkeyword\u001b[0m\u001b[0;34m]\u001b[0m\u001b[0;34m,\u001b[0m \u001b[0mstopWords\u001b[0m\u001b[0;34m)\u001b[0m\u001b[0;34m\u001b[0m\u001b[0;34m\u001b[0m\u001b[0m\n\u001b[0m\u001b[1;32m      5\u001b[0m \u001b[0;34m\u001b[0m\u001b[0m\n\u001b[1;32m      6\u001b[0m \u001b[0;31m# Sort these by occurrence, and take the top 10\u001b[0m\u001b[0;34m\u001b[0m\u001b[0;34m\u001b[0m\u001b[0;34m\u001b[0m\u001b[0m\n",
      "\u001b[0;32m/opt/conda/lib/python3.8/site-packages/hmjr/Entries.py\u001b[0m in \u001b[0;36massociate\u001b[0;34m(self, words, badWords)\u001b[0m\n\u001b[1;32m    100\u001b[0m         \u001b[0;34m\"\"\"Count the appearances of each unique word in indexes that contain the given words. \"\"\"\u001b[0m\u001b[0;34m\u001b[0m\u001b[0;34m\u001b[0m\u001b[0m\n\u001b[1;32m    101\u001b[0m         \u001b[0mindexes\u001b[0m \u001b[0;34m=\u001b[0m \u001b[0mself\u001b[0m\u001b[0;34m.\u001b[0m\u001b[0mindexes\u001b[0m\u001b[0;34m(\u001b[0m\u001b[0;34m)\u001b[0m\u001b[0;34m\u001b[0m\u001b[0;34m\u001b[0m\u001b[0m\n\u001b[0;32m--> 102\u001b[0;31m         \u001b[0;32mif\u001b[0m \u001b[0mindexes\u001b[0m\u001b[0;34m.\u001b[0m\u001b[0many\u001b[0m\u001b[0;34m(\u001b[0m\u001b[0;34m)\u001b[0m\u001b[0;34m:\u001b[0m\u001b[0;34m\u001b[0m\u001b[0;34m\u001b[0m\u001b[0m\n\u001b[0m\u001b[1;32m    103\u001b[0m             \u001b[0mcontainedStrs\u001b[0m \u001b[0;34m=\u001b[0m \u001b[0;34m[\u001b[0m\u001b[0ms\u001b[0m\u001b[0;34m[\u001b[0m\u001b[0;34m\"content\"\u001b[0m\u001b[0;34m]\u001b[0m \u001b[0;32mfor\u001b[0m \u001b[0ms\u001b[0m \u001b[0;32min\u001b[0m \u001b[0mindexes\u001b[0m \u001b[0;32mfor\u001b[0m \u001b[0mword\u001b[0m \u001b[0;32min\u001b[0m \u001b[0mwords\u001b[0m \u001b[0;32mif\u001b[0m \u001b[0ms\u001b[0m\u001b[0;34m[\u001b[0m\u001b[0;34m\"content\"\u001b[0m\u001b[0;34m]\u001b[0m \u001b[0;32mis\u001b[0m \u001b[0;32mnot\u001b[0m \u001b[0;32mNone\u001b[0m \u001b[0;32mif\u001b[0m \u001b[0mword\u001b[0m \u001b[0;32min\u001b[0m \u001b[0ms\u001b[0m\u001b[0;34m[\u001b[0m\u001b[0;34m\"content\"\u001b[0m\u001b[0;34m]\u001b[0m\u001b[0;34m]\u001b[0m\u001b[0;34m\u001b[0m\u001b[0;34m\u001b[0m\u001b[0m\n\u001b[1;32m    104\u001b[0m             \u001b[0mwords\u001b[0m \u001b[0;34m=\u001b[0m \u001b[0;34m[\u001b[0m\u001b[0mword\u001b[0m \u001b[0;32mfor\u001b[0m \u001b[0ms\u001b[0m \u001b[0;32min\u001b[0m \u001b[0mcontainedStrs\u001b[0m \u001b[0;32mfor\u001b[0m \u001b[0mword\u001b[0m \u001b[0;32min\u001b[0m \u001b[0ms\u001b[0m\u001b[0;34m.\u001b[0m\u001b[0msplit\u001b[0m\u001b[0;34m(\u001b[0m\u001b[0;34m\" \"\u001b[0m\u001b[0;34m)\u001b[0m \u001b[0;34m]\u001b[0m\u001b[0;34m\u001b[0m\u001b[0;34m\u001b[0m\u001b[0m\n",
      "\u001b[0;31mAttributeError\u001b[0m: 'NoneType' object has no attribute 'any'"
     ]
    }
   ],
   "source": [
    "# Get all the words that cooccurr with \"HMJr\" or \"HMJT\", and arent in stopWords\n",
    "stopWords  = \"of and to for Book Page page in by on from with See a) 1) b) also - be, New York York: as at Oswego Oswego,\"\n",
    "keyword = \"Oswego\"\n",
    "data = entries.associate([keyword], stopWords)\n",
    "\n",
    "# Sort these by occurrence, and take the top 10\n",
    "lists = sorted(data.items(), key=lambda x: x[1], reverse=True)[:5]\n",
    "\n",
    "# For each of these words, track their occurrence in the entries over volumes\n",
    "for w in lists:\n",
    "  # Get the word\n",
    "  label = w[0]\n",
    "  # Track it over volumes\n",
    "  wOverTime = entries.deltaBooks(label)\n",
    "  # Sort this by volume\n",
    "  ordered = sorted(wOverTime.items(), key=lambda vol:vol[0])\n",
    "  # Make x and y lists out of the sorted values\n",
    "  x, y = zip(*ordered)\n",
    "  # Plot this line\n",
    "  plt.plot([int(i) for i in x], y, label=label, linewidth=1, alpha=0.5)\n",
    "\n",
    "\n",
    "plt.title(\"5 most associated words with \" + keyword + \", over volumes\")\n",
    "plt.ylabel(\"Occurrences\")\n",
    "plt.xlabel(\"Volume\")\n",
    "plt.legend()\n",
    "plt.show()"
   ]
  },
  {
   "cell_type": "code",
   "execution_count": null,
   "id": "driving-league",
   "metadata": {},
   "outputs": [],
   "source": []
  }
 ],
 "metadata": {
  "kernelspec": {
   "display_name": "Python 3",
   "language": "python",
   "name": "python3"
  },
  "language_info": {
   "codemirror_mode": {
    "name": "ipython",
    "version": 3
   },
   "file_extension": ".py",
   "mimetype": "text/x-python",
   "name": "python",
   "nbconvert_exporter": "python",
   "pygments_lexer": "ipython3",
   "version": "3.8.6"
  }
 },
 "nbformat": 4,
 "nbformat_minor": 5
}
