{
 "cells": [
  {
   "cell_type": "markdown",
   "id": "stopped-government",
   "metadata": {},
   "source": [
    "---\n",
    "## Let's now play with JSON to access **the NARA Catalog Morgenthau Diary** Vol.696: Jan. 22 - Jan. 26, 1944:\n",
    "### - we use an API call where we specify a NARA fileUnit ID directly: 28277406\n",
    "### - <https://catalog.archives.gov/api/v1?&naIds=28277406>\n",
    "\n",
    "\n",
    "| <center>NARA Catalog Hierarchy</center> | <center>JSON Structure for the Query of FDR FileUnit 28277406:\"The Morgenthau Diaries\"</center> |\n",
    "| ----- | ----- |\n",
    "| <img src=\"Images/FU_hierarchy.png\"/> | <img src=\"Images/FU_tree.png\"/> |"
   ]
  },
  {
   "cell_type": "code",
   "execution_count": 1,
   "id": "liberal-tracker",
   "metadata": {},
   "outputs": [],
   "source": [
    "import requests\n",
    "import json\n",
    "\n",
    "# Going down the JSON tree to the RESULT section:\n",
    "response = requests.get(\"https://catalog.archives.gov/api/v1?&naIds=28277406\")\n",
    "jresponse = response.json()\n",
    "result_section = jresponse[\"opaResponse\"][\"results\"][\"result\"][0]"
   ]
  },
  {
   "cell_type": "markdown",
   "id": "reverse-couple",
   "metadata": {},
   "source": [
    "| <center>FILE UNIT JSON Details</center> | <center>OBJECTS JSON Details</center> |\n",
    "| ----- | ----- |\n",
    "| <img src=\"Images/FU_tree-title.png\"/> | <img src=\"Images/FU_tree-@url.png\"/> |"
   ]
  },
  {
   "cell_type": "markdown",
   "id": "extensive-resort",
   "metadata": {},
   "source": [
    "---\n",
    "## How to extract the TITLE value from the FILEUNIT section of the JSON tree"
   ]
  },
  {
   "cell_type": "code",
   "execution_count": 3,
   "id": "massive-brazil",
   "metadata": {},
   "outputs": [
    {
     "name": "stdout",
     "output_type": "stream",
     "text": [
      "- TITLE VALUE: Volume 696, January 22 – January 26, 1944\n"
     ]
    }
   ],
   "source": [
    "# Going down the description/fileUnit section of the JSON tree\n",
    "title_value = result_section[\"description\"][\"fileUnit\"][\"title\"]\n",
    "\n",
    "# Printing the Title Value\n",
    "print( \"- TITLE VALUE:\", title_value )"
   ]
  },
  {
   "cell_type": "markdown",
   "id": "material-spank",
   "metadata": {},
   "source": [
    "---\n",
    "## How to extract the URL value from the FILE section of the objects/object portion of the JSON tree\n"
   ]
  },
  {
   "cell_type": "code",
   "execution_count": 4,
   "id": "upset-harvey",
   "metadata": {},
   "outputs": [
    {
     "name": "stdout",
     "output_type": "stream",
     "text": [
      "- URL VALUE: https://catalog.archives.gov/OpaAPI/media/28277406/content/presidential-libraries/roosevelt/FDR-MORGEN/589213/md0981.pdf\n",
      "- NAME VALUE: md0981.pdf\n"
     ]
    }
   ],
   "source": [
    "# Going down to the fiole section of the objects/object portion of the JSON tree\n",
    "file_value = result_section[\"objects\"][\"object\"][\"file\"]\n",
    "\n",
    "# Grabbing the @url value\n",
    "url_value = file_value[\"@url\"]\n",
    "# We choose to print the URL key which will give us the location of the file\n",
    "print( \"- URL VALUE:\", url_value)\n",
    "\n",
    "# Grabbing the @name value\n",
    "name_value = file_value[\"@name\"]\n",
    "# Printing the name value\n",
    "print( \"- NAME VALUE:\", name_value)"
   ]
  },
  {
   "cell_type": "markdown",
   "id": "solid-bahamas",
   "metadata": {},
   "source": [
    "---\n",
    "### ==> Following the URL link and \"GET\" the actual .PDF file for the entire Morgenthau Diary for Volume 696 and download it locally"
   ]
  },
  {
   "cell_type": "code",
   "execution_count": 5,
   "id": "continuous-resource",
   "metadata": {},
   "outputs": [
    {
     "data": {
      "text/plain": [
       "20024779"
      ]
     },
     "execution_count": 5,
     "metadata": {},
     "output_type": "execute_result"
    }
   ],
   "source": [
    "# We then get that URL\n",
    "r = requests.get(url_value, allow_redirects=True)\n",
    "\n",
    "# and finally open and write the .PDF file\n",
    "open('696.pdf', 'wb').write(r.content)"
   ]
  },
  {
   "cell_type": "code",
   "execution_count": null,
   "id": "saving-convenience",
   "metadata": {},
   "outputs": [],
   "source": []
  }
 ],
 "metadata": {
  "kernelspec": {
   "display_name": "Python 3",
   "language": "python",
   "name": "python3"
  },
  "language_info": {
   "codemirror_mode": {
    "name": "ipython",
    "version": 3
   },
   "file_extension": ".py",
   "mimetype": "text/x-python",
   "name": "python",
   "nbconvert_exporter": "python",
   "pygments_lexer": "ipython3",
   "version": "3.8.6"
  }
 },
 "nbformat": 4,
 "nbformat_minor": 5
}
