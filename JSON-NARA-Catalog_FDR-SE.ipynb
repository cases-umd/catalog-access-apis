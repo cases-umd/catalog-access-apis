{
 "cells": [
  {
   "cell_type": "markdown",
   "id": "lined-hamburg",
   "metadata": {},
   "source": [
    "---\n",
    "## Let's play with JSON to access **the NARA Catalog Morgenthau Diaries** Series: \n",
    "### - we use an API call where we specify a NARA Series ID directly: 589213\n",
    "### - API Call: <https://catalog.archives.gov/api/v2/records/search?q=*&abbreviated=true&limit=200&title='Diaries'&naId=589213>\n",
    "\n",
    "| <center>NARA Catalog Hierarchy</center> | <center>JSON Structure for the Query of FDR Series 589213: \"The Morgenthau Diaries\"</center> |\n",
    "| ----- | ----- |\n",
    "| <img src=\"Images/FDR-Series_hierarchy.png\"/> | <img src=\"Images/HMJr.png\"/> |"
   ]
  },
  {
   "cell_type": "markdown",
   "id": "owned-flesh",
   "metadata": {},
   "source": [
    "### - Using Python to talk to NARA's Catalog through API calls:"
   ]
  },
  {
   "cell_type": "code",
   "execution_count": 33,
   "id": "alive-orleans",
   "metadata": {
    "tags": []
   },
   "outputs": [],
   "source": [
    "import requests\n",
    "import json"
   ]
  },
  {
   "cell_type": "code",
   "execution_count": 35,
   "id": "deadly-nightlife",
   "metadata": {
    "tags": []
   },
   "outputs": [
    {
     "data": {
      "text/plain": [
       "{'body': {'hits': {'total': {'value': 1, 'relation': 'eq'},\n",
       "   'max_score': None,\n",
       "   'hits': [{'_index': 'nac-records2',\n",
       "     '_type': '_doc',\n",
       "     '_id': '589213',\n",
       "     '_score': 50.24298,\n",
       "     '_source': {'record': {'inclusiveStartDate': {'month': 4,\n",
       "        'year': 1933,\n",
       "        'day': 27,\n",
       "        'logicalDate': '1933-04-27'},\n",
       "       'levelOfDescription': 'series',\n",
       "       'generalRecordsTypes': ['Textual Records'],\n",
       "       'creators': [{'creatorType': 'Most Recent',\n",
       "         'heading': 'Morgenthau, Henry, 1891-1967',\n",
       "         'deathDate': {'year': 1967, 'logicalDate': '1967-12-31'},\n",
       "         'authorityType': 'person',\n",
       "         'birthDate': {'year': 1891, 'logicalDate': '1891-01-01'},\n",
       "         'naId': 10581613}],\n",
       "       'recordType': 'description',\n",
       "       'inclusiveEndDate': {'month': 7,\n",
       "        'year': 1945,\n",
       "        'day': 21,\n",
       "        'logicalDate': '1945-07-21'},\n",
       "       'title': 'Diaries of Henry Morgenthau, Jr.',\n",
       "       'ancestors': [{'collectionIdentifier': 'FDR-MORGEN',\n",
       "         'inclusiveStartDate': {'year': 1866, 'logicalDate': '1866-01-01'},\n",
       "         'distance': 1,\n",
       "         'levelOfDescription': 'collection',\n",
       "         'inclusiveEndDate': {'year': 1960, 'logicalDate': '1960-12-31'},\n",
       "         'title': 'Henry Morgenthau, Jr. Papers',\n",
       "         'naId': 589184}],\n",
       "       'scopeAndContentNote': 'This series consists of over 850 diary volumes documenting the public career of Henry Morgenthau, Jr. as head of the Farm Credit Administration and Secretary of the Treasury during the administration of Franklin D. Roosevelt.\\n\\nIn addition to Morgenthau\\'s own summaries of events, the diaries also include a variety of original documents, including speeches, press releases, copies of Congressional hearings, reports, draft documents, transcripts of meetings and telephone conversations, minutes, and copies of correspondence with Roosevelt and other public officials.\\n\\nBecause of Morgenthau\\'s long tenure in government and his close personal relationship with Roosevelt, the diaries also document Morgenthau\\'s involvement and interest in New Deal fiscal and monetary policy during the Great Depression, wartime economic mobilization and aid to the Allies, post-war planning and the so-called \"Morgenthau Plan\" for Germany, the plight of European Jews and the War Refugee Board, planning for the Bretton Woods and United Nations conferences, as well as other social, political, economic and diplomatic issues.\\n\\nEach diary volume begins with a title page that gives the diary number and inclusive dates.  Each diary volume has its own pagination beginning with page one.',\n",
       "       'naId': 589213,\n",
       "       'physicalOccurrences': [{'mediaOccurrences': [{'specificMediaType': 'Bound Volume'},\n",
       "          {'specificMediaType': 'Paper'}]},\n",
       "        {'mediaOccurrences': [{'specificMediaType': 'Microfilm'}]}]}},\n",
       "     'fields': {'totalDigitalObjects': [0], 'firstDigitalObject': [{}]},\n",
       "     'sort': [50.24298, '589213']}]},\n",
       "  'aggregations': {'typeOfMaterials': {'doc_count_error_upper_bound': 0,\n",
       "    'sum_other_doc_count': 0,\n",
       "    'buckets': [{'key': 'Textual Records', 'doc_count': 1}]},\n",
       "   'collectionIdentifier': {'doc_count': 1,\n",
       "    'filter_collections': {'doc_count': 1,\n",
       "     'collections': {'doc_count_error_upper_bound': 0,\n",
       "      'sum_other_doc_count': 0,\n",
       "      'buckets': [{'key': 'FDR-MORGEN: Henry Morgenthau, Jr. Papers',\n",
       "        'doc_count': 1}]}}},\n",
       "   'referenceUnits': {'doc_count_error_upper_bound': 0,\n",
       "    'sum_other_doc_count': 0,\n",
       "    'buckets': [{'key': 'Franklin D. Roosevelt Library', 'doc_count': 1}]},\n",
       "   'recordGroupNumber': {'doc_count': 1,\n",
       "    'filter_recordGroups': {'doc_count': 0,\n",
       "     'recordGroups': {'doc_count_error_upper_bound': 0,\n",
       "      'sum_other_doc_count': 0,\n",
       "      'buckets': []}}},\n",
       "   'levelOfDescription': {'doc_count_error_upper_bound': 0,\n",
       "    'sum_other_doc_count': 0,\n",
       "    'buckets': [{'key': 'series', 'doc_count': 1}]},\n",
       "   'availableOnline': {'doc_count': 0},\n",
       "   'dataSource': {'doc_count_error_upper_bound': 0,\n",
       "    'sum_other_doc_count': 0,\n",
       "    'buckets': [{'key': 'description', 'doc_count': 1}]},\n",
       "   'localIdentifierCount': {'doc_count': 0},\n",
       "   'objectType': {'doc_count_error_upper_bound': 0,\n",
       "    'sum_other_doc_count': 0,\n",
       "    'buckets': []}}},\n",
       " 'statusCode': 200,\n",
       " 'headers': {'date': 'Wed, 18 Oct 2023 00:44:53 GMT',\n",
       "  'content-type': 'application/json; charset=UTF-8',\n",
       "  'content-length': '3621',\n",
       "  'connection': 'keep-alive',\n",
       "  'access-control-allow-origin': '*'}}"
      ]
     },
     "execution_count": 35,
     "metadata": {},
     "output_type": "execute_result"
    }
   ],
   "source": [
    "#LISTING the 'Diaries of Henry Morgenthau, Jr.' Series, totalling over 850 volumes \n",
    "response = requests.get(\"https://catalog.archives.gov/api/v2/records/search?q=*&abbreviated=true&limit=200&title='Diaries'&naId=589213\", \n",
    "                        headers={\"Content-Type\": \"application/json\", \n",
    "                                 \"x-api-key\": \"API-KEY\"})\n",
    "\n",
    "# If you take a look at the response, you’ll see that it is actually serialized JSON content\n",
    "# The following command will display the content in JSON format\n",
    "data = response.json()\n",
    "with open('data.HMJr.json', 'w') as f:\n",
    "    json.dump(data, f)\n",
    "data"
   ]
  },
  {
   "cell_type": "code",
   "execution_count": null,
   "id": "upper-alexander",
   "metadata": {},
   "outputs": [],
   "source": []
  }
 ],
 "metadata": {
  "kernelspec": {
   "display_name": "Python 3 (ipykernel)",
   "language": "python",
   "name": "python3"
  },
  "language_info": {
   "codemirror_mode": {
    "name": "ipython",
    "version": 3
   },
   "file_extension": ".py",
   "mimetype": "text/x-python",
   "name": "python",
   "nbconvert_exporter": "python",
   "pygments_lexer": "ipython3",
   "version": "3.11.5"
  }
 },
 "nbformat": 4,
 "nbformat_minor": 5
}
