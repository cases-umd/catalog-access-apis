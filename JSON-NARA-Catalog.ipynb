{
 "cells": [
  {
   "cell_type": "markdown",
   "id": "seventh-adaptation",
   "metadata": {},
   "source": [
    "# Archival Descriptive Metadata & JSON \n",
    "Many cultural organizations, such as the **US National Archives**, provide a read-write web API *(Application Programming Interface)* for accessing catalog content from a program. Typically, these catalogs when queried through API calls, return JSON-formated data.  This data can be viewed through a JSON Browser or through regular browsers (sometimes requiring a JSON extension).  An online viewer we have used is:  **jsoneditoronline.org**\n",
    "\n",
    "## NARA's Hierarchical Catalog Structure:\n",
    "<img src=\"./Images/NARA-LCDRG.png\"/>\n",
    "\n",
    "**Record groups** and **collections** are the highest level of archival description. Record groups most often contain accessioned records from federal agencies. Collections are generally made up of non-federal records that were donated to NARA, usually from presidential administrations.\n",
    "\n",
    "Beneath the record group or collection is the **series**. A series is a group of records that are related as the result of being created, received, or used in the course of the same activity. The series is the descriptive level that is connected to the archival creator - the person or organization who created and/or maintained the records.\n",
    "\n",
    "And beneath the series are **file units** or **items**. File units contain a more specific collection of related records within a series. A file unit often contains multiple discrete records, for example a grouping of memos.  File units are always contained by series, while items can be contained by either series or file units. An item often reflects a specific record, for example a single memo. Both file units and items can contain digital objects, such as digitized pages produced from analog holdings.\n",
    "\n",
    "## The National Archives Catalog API contains all:\n",
    "- Archival description metadata\n",
    "- Authority record (persons, organizations, geographic references, topical subjects, and specific records types) metadata\n",
    "- Digital object metadata (including technical metadata)\n",
    "- Public contributions to the catalog (like tags and transcriptions)\n",
    "- Metadata for crawled web pages of archives.gov and presidential libraries\n",
    "- Some metadata for user accounts\n",
    "\n",
    "<img src=\"./Images/NARA_API-Call-Syntax.png\"/>\n",
    "<img src=\"./Images/records-search.png\"/>\n",
    "\n",
    "Examples of API calls:\n",
    "- https://catalog.archives.gov/api/v2/records/search?q=constitution\n",
    "- https://catalog.archives.gov/api/v2/records/search?q=constitution\n",
    "\n",
    "\n",
    "See: \n",
    "- <https://catalog.archives.gov/api/v2/api-docs/#/>\n",
    "\n",
    "---\n",
    "Let's learn more about **JSON** first:\n",
    "## JSON:\n",
    "- is (\"Pronounced /ˈdʒeɪ.sən/, as in 'Jason and The Argonauts'\")\n",
    "- is the **J**ava**S**cript **O**bject **N**otation (JSON) Data Interchange Format, December 2017\n",
    "- is a very popular data format for APIs *(Aplication Programming Interfaces allow two applications to talk to each other)*\n",
    "- is stored directly in **NoSQL based databases** like **MongoDB**\n",
    "### More details:\n",
    "* an international ISO standard (ISO/IEC 21778:2017) of which [RFC 8259](https://www.rfc-editor.org/rfc/rfc8259.html) is the current version of the Internet Standard STD 90\n",
    "* a lightweight, text-based, language-independent data interchange format\n",
    "* a text format for the serialization of structured data\n",
    "* a subset of JavaScript *(JS is a programming language used both on the client-side and server-side that allows you to make web pages interactive)*\n",
    "### JSON can represent:\n",
    "- data as a **name:value** pair, consisting of a field name (in double quotes), followed by a colon, followed by a value\n",
    "- a **list of name:value** pairs (separated by commas), where values:\n",
    "  - are one of **four primitive types**: strings, numbers, booleans, and null\n",
    "  - can also be one of **two structured types**: objects and arrays"
   ]
  },
  {
   "cell_type": "markdown",
   "id": "aquatic-fight",
   "metadata": {},
   "source": [
    "* An **ARRAY** (which uses square brackets) is an ordered sequence of zero or more values"
   ]
  },
  {
   "cell_type": "raw",
   "id": "sitting-tomorrow",
   "metadata": {},
   "source": [
    "   This is a JSON array containing two objects:\n",
    "\n",
    "      [\n",
    "        {\n",
    "           \"precision\": \"zip\",\n",
    "           \"Latitude\":  37.7668,\n",
    "           \"Longitude\": -122.3959,\n",
    "           \"Address\":   \"\",\n",
    "           \"City\":      \"SAN FRANCISCO\",\n",
    "           \"State\":     \"CA\",\n",
    "           \"Zip\":       \"94107\",\n",
    "           \"Country\":   \"US\"\n",
    "        },\n",
    "        {\n",
    "           \"precision\": \"zip\",\n",
    "           \"Latitude\":  37.371991,\n",
    "           \"Longitude\": -122.026020,\n",
    "           \"Address\":   \"\",\n",
    "           \"City\":      \"SUNNYVALE\",\n",
    "           \"State\":     \"CA\",\n",
    "           \"Zip\":       \"94085\",\n",
    "           \"Country\":   \"US\"\n",
    "        }\n",
    "      ]"
   ]
  },
  {
   "cell_type": "markdown",
   "id": "amended-spread",
   "metadata": {},
   "source": [
    "* An **OBJECT** (which uses curly brackets) is an unordered collection of zero of more name/value pairs"
   ]
  },
  {
   "cell_type": "raw",
   "id": "polar-usage",
   "metadata": {},
   "source": [
    "   This is an examples of a JSON object:\n",
    "\n",
    "      {\n",
    "          \"Image\": {\n",
    "              \"Width\":  800,\n",
    "              \"Height\": 600,\n",
    "              \"Title\":  \"View from 15th Floor\",\n",
    "              \"Thumbnail\": {\n",
    "                  \"Url\":    \"http://www.example.com/image/481989943\",\n",
    "                  \"Height\": 125,\n",
    "                  \"Width\":  100\n",
    "              },\n",
    "              \"Animated\" : false,\n",
    "              \"IDs\": [116, 943, 234, 38793]\n",
    "            }\n",
    "      }\n",
    "\n",
    "   This object has an: \n",
    "   - Image member which is also an object \n",
    "   - whose Thumbnail member is also an object, and \n",
    "   - whose IDs member is an array of numbers."
   ]
  },
  {
   "cell_type": "markdown",
   "id": "unusual-giving",
   "metadata": {},
   "source": [
    "The following example shows a possible JSON object representation describing a **person**.<br />\n",
    "In other words **JSON** can lend itself to modeling complex hierarchical nested data.<br />\n",
    "\n",
    "<img align=\"left\" src=\"./Images/person-obj.png\">\n"
   ]
  },
  {
   "cell_type": "markdown",
   "id": "sublime-immigration",
   "metadata": {},
   "source": [
    "---\n",
    "## The JSON data format is very similar to the Python language Dictionary structure\n",
    "\n",
    "Because **Dictionaries** in the **Python** programming languange are one of the four principal collection types (List, Tuple, Set, and Dictionary) and are used to store information in key:value pairs, they are a natural way of expressing and manipulating **JSON** content.\n",
    "\n",
    "Python code for creating and printing your first dictionary:"
   ]
  },
  {
   "cell_type": "code",
   "execution_count": 5,
   "id": "interior-coupon",
   "metadata": {},
   "outputs": [
    {
     "name": "stdout",
     "output_type": "stream",
     "text": [
      "{'filename': 'readme.txt', 'year': 2021, 'pagecount': 12}\n"
     ]
    }
   ],
   "source": [
    "firstdict = {\n",
    "    \"filename\": \"readme.txt\",\n",
    "    \"year\": 2021,\n",
    "    \"pagecount\": 12\n",
    "}\n",
    "print( firstdict )"
   ]
  },
  {
   "cell_type": "markdown",
   "id": "japanese-fishing",
   "metadata": {},
   "source": [
    "## Printing a particular Dictionary value:\n",
    "- Print the **\"year\"** value of the dictionary (using the square bracket notation):"
   ]
  },
  {
   "cell_type": "code",
   "execution_count": 6,
   "id": "micro-solomon",
   "metadata": {},
   "outputs": [
    {
     "name": "stdout",
     "output_type": "stream",
     "text": [
      "2021\n"
     ]
    }
   ],
   "source": [
    "print( firstdict[ \"year\" ])"
   ]
  },
  {
   "cell_type": "markdown",
   "id": "virgin-criticism",
   "metadata": {},
   "source": [
    "Python code for creating and printing your second dictionary:"
   ]
  },
  {
   "cell_type": "code",
   "execution_count": 298,
   "id": "tight-visit",
   "metadata": {},
   "outputs": [
    {
     "name": "stdout",
     "output_type": "stream",
     "text": [
      "{'filename': 'readme.txt', 'year': 2000, 'pagecount': 12}\n"
     ]
    }
   ],
   "source": [
    "seconddict = {\n",
    "    \"filename\": \"readme.txt\",\n",
    "    \"year\": 2021,\n",
    "    \"pagecount\": 12,\n",
    "    \"year\": 2000\n",
    "}\n",
    "print( seconddict )"
   ]
  },
  {
   "cell_type": "markdown",
   "id": "preliminary-humanitarian",
   "metadata": {},
   "source": [
    "The Second Dictionary example shows that in Python (as of version 3.7), **dictionaries are ordered** (items have a defined order, and that order will not change), and **do not allow duplicates** (duplicate values will overwite existing values)."
   ]
  },
  {
   "cell_type": "markdown",
   "id": "hundred-significance",
   "metadata": {},
   "source": [
    "The four Python collection data types are:\n",
    "\n",
    "- **List** is a collection which is ordered and changeable. Allows duplicate members. Is indexed by an integer index. \n",
    "  - e.g.: *list1 = (\"one\", \"two\", \"three\")*\n",
    "- **Tuple** is a collection which is ordered and unchangeable. Allows duplicate members. \n",
    "  - e.g.: *tuple1 = (\"one\", \"two\", \"three\")*\n",
    "- **Set** is a collection which is unordered and unindexed. No duplicate members. \n",
    "  - e.g.: *set1 = {\"one\", \"two\", \"three\"}*\n",
    "- **Dictionary** is a collection which is now ordered and changeable. No duplicate members. Is indexed by a key (as opposed to List). \n",
    "  - e.g.: *dict1 = (\"one\":1, \"two\":2, \"three\":3)*"
   ]
  }
 ],
 "metadata": {
  "kernelspec": {
   "display_name": "Python 3 (ipykernel)",
   "language": "python",
   "name": "python3"
  },
  "language_info": {
   "codemirror_mode": {
    "name": "ipython",
    "version": 3
   },
   "file_extension": ".py",
   "mimetype": "text/x-python",
   "name": "python",
   "nbconvert_exporter": "python",
   "pygments_lexer": "ipython3",
   "version": "3.11.5"
  }
 },
 "nbformat": 4,
 "nbformat_minor": 5
}
